{
 "cells": [
  {
   "cell_type": "markdown",
   "id": "9bcd251a",
   "metadata": {},
   "source": [
    "# ASSIGNMENT USING UNIX SHELL PROGRAMMING\n",
    "\n",
    "ASSIGNMENT - 02UNIX"
   ]
  },
  {
   "cell_type": "code",
   "execution_count": null,
   "id": "3e6b202b",
   "metadata": {},
   "outputs": [],
   "source": [
    "mkdir grocery\n",
    "cd grocery\n",
    "pwd\n",
    "cat purchase_history_02Jan21.txt\n",
    "cat purchase_history_03Jan21.txt \n",
    "cat purchase_history_31Jan21.txt \n",
    "cat purchase_history_02Jan21.txt purchase_history_03Jan21.txt purchase_history_31Jan21.txt >>purchase_history_JanAll.txt"
   ]
  }
 ],
 "metadata": {
  "kernelspec": {
   "display_name": "Python 3 (ipykernel)",
   "language": "python",
   "name": "python3"
  },
  "language_info": {
   "codemirror_mode": {
    "name": "ipython",
    "version": 3
   },
   "file_extension": ".py",
   "mimetype": "text/x-python",
   "name": "python",
   "nbconvert_exporter": "python",
   "pygments_lexer": "ipython3",
   "version": "3.9.12"
  }
 },
 "nbformat": 4,
 "nbformat_minor": 5
}
